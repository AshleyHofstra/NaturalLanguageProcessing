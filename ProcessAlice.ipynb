{
 "cells": [
  {
   "cell_type": "markdown",
   "metadata": {},
   "source": [
    "# Imports & Downloads"
   ]
  },
  {
   "cell_type": "code",
   "execution_count": 1,
   "metadata": {},
   "outputs": [],
   "source": [
    "# Do not depend on numpy\n",
    "import re\n",
    "from string import punctuation"
   ]
  },
  {
   "cell_type": "markdown",
   "metadata": {},
   "source": [
    "* Latest version of spaCy uses numpy > 2.0.0\n",
    "* Latest version of nltk uses numpy < 2.0.0\n",
    "* Solution: assert use of numpy 1.* and spaCy < 3.7.x"
   ]
  },
  {
   "cell_type": "code",
   "execution_count": 2,
   "metadata": {},
   "outputs": [
    {
     "name": "stdout",
     "output_type": "stream",
     "text": [
      "Numpy version < 2.*: No need to reinstall\n"
     ]
    }
   ],
   "source": [
    "# Check if numpy installed\n",
    "res = ! pip freeze | grep numpy\n",
    "res = re.findall(r\"(?<=\\=\\=)[\\d.*\\.?]+\", str(res))\n",
    "numpyInstalled = len(res) == 1\n",
    "\n",
    "# check version\n",
    "if(numpyInstalled):\n",
    "    reinstallNumpy = int(res[0][0]) > 1\n",
    "    if(reinstallNumpy):\n",
    "        print(\"Numpy version >= 2.*: Reinstalling numpy 1.*\\n\")\n",
    "        ! pip uninstall -y numpy\n",
    "        ! pip install numpy==1.*\n",
    "\n",
    "    else:\n",
    "        print(\"Numpy version < 2.*: No need to reinstall\")\n",
    "else:\n",
    "    print(\"Numpy not installed: Installing numpy 1.*\\n\")\n",
    "    ! pip install numpy==1.*\n",
    "\n",
    "import numpy as np"
   ]
  },
  {
   "cell_type": "code",
   "execution_count": 3,
   "metadata": {},
   "outputs": [
    {
     "name": "stdout",
     "output_type": "stream",
     "text": [
      "spaCy version < 3.7.*: No need to reinstall\n"
     ]
    },
    {
     "name": "stderr",
     "output_type": "stream",
     "text": [
      "2025-09-14 17:35:14.536752: I tensorflow/core/util/port.cc:153] oneDNN custom operations are on. You may see slightly different numerical results due to floating-point round-off errors from different computation orders. To turn them off, set the environment variable `TF_ENABLE_ONEDNN_OPTS=0`.\n",
      "2025-09-14 17:35:14.567521: I tensorflow/core/platform/cpu_feature_guard.cc:210] This TensorFlow binary is optimized to use available CPU instructions in performance-critical operations.\n",
      "To enable the following instructions: AVX2 AVX_VNNI FMA, in other operations, rebuild TensorFlow with the appropriate compiler flags.\n",
      "2025-09-14 17:35:15.677746: I tensorflow/core/util/port.cc:153] oneDNN custom operations are on. You may see slightly different numerical results due to floating-point round-off errors from different computation orders. To turn them off, set the environment variable `TF_ENABLE_ONEDNN_OPTS=0`.\n"
     ]
    }
   ],
   "source": [
    "# Check if spaCy installed\n",
    "res = ! pip freeze | grep spacy\n",
    "res = re.findall(r\"(?<=spacy\\=\\=)[\\d.*\\.?]+\", str(res))\n",
    "spacyInstalled = len(res) == 1\n",
    "\n",
    "# check version\n",
    "if(spacyInstalled):\n",
    "    reinstallSpacy = re.search(r\"[1-3]\\.[0-6]\", res[0]) == None\n",
    "\n",
    "    if(reinstallSpacy):\n",
    "        print(\"spaCy version >= 3.7.*: Reinstalling spaCy 3.6.*\\n\")\n",
    "        ! pip uninstall -y spacy\n",
    "        ! pip install spacy==3.6.*\n",
    "\n",
    "    else:\n",
    "        print(\"spaCy version < 3.7.*: No need to reinstall\")\n",
    "else:\n",
    "    print(\"spaCy not installed: Installing spaCy 3.6.*\\n\")\n",
    "    ! pip install spacy==3.6.*\n",
    "\n",
    "import spacy"
   ]
  },
  {
   "cell_type": "code",
   "execution_count": 4,
   "metadata": {},
   "outputs": [],
   "source": [
    "# Depend on np\n",
    "from nltk import sent_tokenize, download, word_tokenize\n",
    "from nltk.stem import *\n"
   ]
  },
  {
   "cell_type": "code",
   "execution_count": 5,
   "metadata": {},
   "outputs": [
    {
     "name": "stderr",
     "output_type": "stream",
     "text": [
      "[nltk_data] Downloading package stopwords to /home/ashley/nltk_data...\n",
      "[nltk_data]   Package stopwords is already up-to-date!\n"
     ]
    }
   ],
   "source": [
    "download('stopwords')\n",
    "from nltk.corpus import stopwords"
   ]
  },
  {
   "cell_type": "code",
   "execution_count": 6,
   "metadata": {},
   "outputs": [
    {
     "name": "stderr",
     "output_type": "stream",
     "text": [
      "[nltk_data] Downloading package averaged_perceptron_tagger_eng to\n",
      "[nltk_data]     /home/ashley/nltk_data...\n",
      "[nltk_data]   Package averaged_perceptron_tagger_eng is already up-to-\n",
      "[nltk_data]       date!\n"
     ]
    },
    {
     "data": {
      "text/plain": [
       "True"
      ]
     },
     "execution_count": 6,
     "metadata": {},
     "output_type": "execute_result"
    }
   ],
   "source": [
    "from nltk import pos_tag\n",
    "download('averaged_perceptron_tagger_eng')"
   ]
  },
  {
   "cell_type": "code",
   "execution_count": 7,
   "metadata": {},
   "outputs": [
    {
     "name": "stderr",
     "output_type": "stream",
     "text": [
      "[nltk_data] Downloading package wordnet to /home/ashley/nltk_data...\n",
      "[nltk_data]   Package wordnet is already up-to-date!\n",
      "[nltk_data] Downloading package omw-1.4 to /home/ashley/nltk_data...\n",
      "[nltk_data]   Package omw-1.4 is already up-to-date!\n"
     ]
    },
    {
     "data": {
      "text/plain": [
       "True"
      ]
     },
     "execution_count": 7,
     "metadata": {},
     "output_type": "execute_result"
    }
   ],
   "source": [
    "download(\"wordnet\")\n",
    "download(\"omw-1.4\")"
   ]
  },
  {
   "cell_type": "markdown",
   "metadata": {},
   "source": [
    "# 1: Read the file alice.txt as a full string & process it using NLTK library\n",
    "\n"
   ]
  },
  {
   "cell_type": "code",
   "execution_count": 8,
   "metadata": {},
   "outputs": [],
   "source": [
    "# Get text\n",
    "txt = open(\"alice.txt\", \"r\").read()"
   ]
  },
  {
   "cell_type": "markdown",
   "metadata": {},
   "source": [
    "## 1.A: Tokenize all sentences & extract all words"
   ]
  },
  {
   "cell_type": "code",
   "execution_count": 9,
   "metadata": {},
   "outputs": [],
   "source": [
    "# For analysis\n",
    "\n",
    "tokenCount = {\n",
    "    \"A\": [],\n",
    "    \"B\": []\n",
    "}"
   ]
  },
  {
   "cell_type": "code",
   "execution_count": 10,
   "metadata": {},
   "outputs": [
    {
     "name": "stdout",
     "output_type": "stream",
     "text": [
      "1.A: 1616 sentences found\n"
     ]
    }
   ],
   "source": [
    "# Tokenize all sentences\n",
    "sentences = sent_tokenize(txt)\n",
    "\n",
    "# Extract words from sentences\n",
    "words = list(map(\n",
    "    lambda sentence:\n",
    "        word_tokenize(sentence.lower()),\n",
    "    sentences\n",
    "))\n",
    "\n",
    "print(f\"1.A: {len(words)} sentences found\")"
   ]
  },
  {
   "cell_type": "markdown",
   "metadata": {},
   "source": [
    "### 1.A.1: Concatenate all tokens from the list of lists at (A) in a single list of tokens. Display the number of tokens"
   ]
  },
  {
   "cell_type": "code",
   "execution_count": 11,
   "metadata": {},
   "outputs": [
    {
     "name": "stdout",
     "output_type": "stream",
     "text": [
      "1.A.1: 34448 tokens found\n"
     ]
    }
   ],
   "source": [
    "tokens = np.concatenate(words)\n",
    "tokenCount[\"A\"].append(len(tokens))\n",
    "\n",
    "print(f\"1.A.1: {len(tokens)} tokens found\")"
   ]
  },
  {
   "cell_type": "markdown",
   "metadata": {},
   "source": [
    "### 1.A.2: Store the unique tokens and their frequency in a dictionary "
   ]
  },
  {
   "cell_type": "code",
   "execution_count": 12,
   "metadata": {},
   "outputs": [
    {
     "name": "stdout",
     "output_type": "stream",
     "text": [
      "{'!': 450, \"'\": 1106, \"''\": 64, \"'d\": 28, \"'em\": 3, \"'ll\": 57, \"'m\": 59, \"'re\": 38, \"'s\": 202, \"'t\": 5, ...}\n",
      "\n",
      "1.A.2: 2625 unique tokens found\n"
     ]
    }
   ],
   "source": [
    "def getUniqueTokens(tokens):\n",
    "    uniqueTokens = {}\n",
    "\n",
    "    # Get unique tokens & their frequency in array\n",
    "    tokenCounts = np.swapaxes(\n",
    "        np.array(\n",
    "            np.unique(tokens, return_counts=True)\n",
    "        ),\n",
    "        0, 1\n",
    "    )\n",
    "    \n",
    "    # Enumerate through rows of [token, count]\n",
    "    for index, row in enumerate(tokenCounts):\n",
    "        token, count = row\n",
    "        uniqueTokens[token] = int(count)\n",
    "\n",
    "    return uniqueTokens\n",
    "\n",
    "uniqueTokens = getUniqueTokens(tokens)\n",
    "\n",
    "# Print first 10 pairs\n",
    "print(\n",
    "    \"\".join(\n",
    "        re.split(\n",
    "            r\"(?<=, )\",\n",
    "            str(uniqueTokens)\n",
    "        )[:10]\n",
    "    ) + \"...}\"\n",
    ")\n",
    "\n",
    "tokenCount[\"A\"].append(len(uniqueTokens))\n",
    "\n",
    "print(f\"\\n1.A.2: {len(uniqueTokens)} unique tokens found\")"
   ]
  },
  {
   "cell_type": "markdown",
   "metadata": {},
   "source": [
    "### 1.A.3: Sort a dictionary by descending values In this case, the values are frequencies"
   ]
  },
  {
   "cell_type": "code",
   "execution_count": 13,
   "metadata": {},
   "outputs": [
    {
     "name": "stdout",
     "output_type": "stream",
     "text": [
      "{',': 2418, 'the': 1639, '`': 1109, \"'\": 1106, '.': 970, 'and': 866, 'to': 725, 'a': 631, 'it': 595, 'she': 553, ...}\n"
     ]
    }
   ],
   "source": [
    "def sortByFrequency(uniqueTokens):\n",
    "    return {\n",
    "        key:\n",
    "            val for key, val in \n",
    "                sorted(\n",
    "                    uniqueTokens.items(),\n",
    "                    key = lambda pair: pair[1],\n",
    "                    reverse=True\n",
    "                )\n",
    "    }\n",
    "\n",
    "sortedTokens = sortByFrequency(uniqueTokens)\n",
    "\n",
    "# Print first 10 pairs\n",
    "print(\n",
    "    \"\".join(\n",
    "        re.split(\n",
    "            r\"(?<=, )\",\n",
    "            str(sortedTokens)\n",
    "        )[:10]\n",
    "    ) + \"...}\"\n",
    ")\n",
    "\n",
    "tokenCount[\"A\"].append(len(sortedTokens))\n"
   ]
  },
  {
   "cell_type": "markdown",
   "metadata": {},
   "source": [
    "### 1.A.4 Remove all punctuation marks from the dictionary"
   ]
  },
  {
   "cell_type": "code",
   "execution_count": 14,
   "metadata": {},
   "outputs": [
    {
     "name": "stdout",
     "output_type": "stream",
     "text": [
      "!\"#$%&'()*+,-./:;<=>?@[\\]^_`{|}~\n"
     ]
    }
   ],
   "source": [
    "print(punctuation)"
   ]
  },
  {
   "cell_type": "code",
   "execution_count": 15,
   "metadata": {},
   "outputs": [
    {
     "name": "stdout",
     "output_type": "stream",
     "text": [
      "1.A.4:\n",
      "\t2594 unique tokens found (after punctuation removed)\n",
      "\n",
      "\t10 most frequent words:\n",
      "\t\tthe: 1639\n",
      "\t\tand: 866\n",
      "\t\tto: 725\n",
      "\t\ta: 631\n",
      "\t\tit: 595\n",
      "\t\tshe: 553\n",
      "\t\ti: 545\n",
      "\t\tof: 511\n",
      "\t\tsaid: 462\n",
      "\t\tyou: 411\n",
      "\n",
      "\t10 least frequent words:\n",
      "\t\tx: 1\n",
      "\t\txi: 1\n",
      "\t\txii: 1\n",
      "\t\tyards: 1\n",
      "\t\tye: 1\n",
      "\t\tyears: 1\n",
      "\t\tyelled: 1\n",
      "\t\tyelp: 1\n",
      "\t\tzealand: 1\n",
      "\t\tzigzag: 1\n"
     ]
    }
   ],
   "source": [
    "regex = r'[\\!\"#\\$%&\\'\\(\\)\\*\\+,\\-\\.\\/\\:;\\<\\=\\>\\?@\\[\\\\\\]\\^_\\`\\{\\|\\}~\\s]+'\n",
    "\n",
    "\n",
    "def cleanSortedTokens(sortedTokens):\n",
    "    sortedCleanTokens = {}\n",
    "\n",
    "    for token in list(sortedTokens.keys()):\n",
    "        # Remove punctuation\n",
    "        tokenClean = re.sub(regex, \"\", token)\n",
    "\n",
    "        # If token was NOT only punctuation ==> Add clean token and frequency to new dictionary\n",
    "        if(len(tokenClean) > 0):\n",
    "            # May need to add some together (ie: \"i\" and \"_i_\" both become \"i\")\n",
    "            try:\n",
    "                sortedCleanTokens[tokenClean] += sortedTokens[token]\n",
    "            except:\n",
    "                sortedCleanTokens[tokenClean] = sortedTokens[token]\n",
    "    \n",
    "    return sortedCleanTokens\n",
    "\n",
    "sortedCleanTokens = cleanSortedTokens(sortedTokens)\n",
    "\n",
    "tokenCount[\"A\"].append(len(sortedCleanTokens))\n",
    "\n",
    "\n",
    "print(f\"1.A.4:\\n\\t{len(sortedCleanTokens)} unique tokens found (after punctuation removed)\\n\")\n",
    "\n",
    "print(\"\\t10 most frequent words:\")\n",
    "for key in list(sortedCleanTokens.keys())[:10]:\n",
    "    print(f\"\\t\\t{key}: {sortedCleanTokens[key]}\")\n",
    "\n",
    "print(\"\\n\\t10 least frequent words:\")\n",
    "for key in list(sortedCleanTokens.keys())[-10:]:\n",
    "    print(f\"\\t\\t{key}: {sortedCleanTokens[key]}\")"
   ]
  },
  {
   "cell_type": "markdown",
   "metadata": {},
   "source": [
    "### 1.A.5: Remove all stop words"
   ]
  },
  {
   "cell_type": "code",
   "execution_count": 16,
   "metadata": {},
   "outputs": [
    {
     "name": "stdout",
     "output_type": "stream",
     "text": [
      "1.A.5:\n",
      "\t2462 unique tokens found (after stop words removed)\n",
      "\n",
      "\t10 most frequent words:\n",
      "\t\tsaid: 462\n",
      "\t\talice: 399\n",
      "\t\tnt: 217\n",
      "\t\tlittle: 128\n",
      "\t\tone: 104\n",
      "\t\twould: 96\n",
      "\t\tknow: 88\n",
      "\t\tcould: 86\n",
      "\t\tlike: 85\n",
      "\t\twent: 83\n",
      "\n",
      "\t10 least frequent words:\n",
      "\t\tx: 1\n",
      "\t\txi: 1\n",
      "\t\txii: 1\n",
      "\t\tyards: 1\n",
      "\t\tye: 1\n",
      "\t\tyears: 1\n",
      "\t\tyelled: 1\n",
      "\t\tyelp: 1\n",
      "\t\tzealand: 1\n",
      "\t\tzigzag: 1\n"
     ]
    }
   ],
   "source": [
    "def removeStopWords(tokens):\n",
    "    tokensNoStop = tokens.copy()\n",
    "\n",
    "    # Iterate through tokens\n",
    "    for token in list(tokens.keys()):\n",
    "        # If token is a stopword ==>\n",
    "        if(token in stopwords.words(\"english\")):\n",
    "            tokensNoStop.pop(token) # Remove from dictionary\n",
    "\n",
    "    return tokensNoStop\n",
    "\n",
    "tokensNoStop = removeStopWords(sortedCleanTokens)\n",
    "\n",
    "tokenCount[\"A\"].append(len(tokensNoStop))\n",
    "\n",
    "\n",
    "print(f\"1.A.5:\\n\\t{len(tokensNoStop)} unique tokens found (after stop words removed)\\n\")\n",
    "\n",
    "print(\"\\t10 most frequent words:\")\n",
    "for key in list(tokensNoStop.keys())[:10]:\n",
    "    print(f\"\\t\\t{key}: {tokensNoStop[key]}\")\n",
    "\n",
    "print(\"\\n\\t10 least frequent words:\")\n",
    "for key in list(tokensNoStop.keys())[-10:]:\n",
    "    print(f\"\\t\\t{key}: {tokensNoStop[key]}\")"
   ]
  },
  {
   "cell_type": "markdown",
   "metadata": {},
   "source": [
    "### 1.A.6: Stem all remaining words using PorterStemmer"
   ]
  },
  {
   "cell_type": "code",
   "execution_count": 17,
   "metadata": {},
   "outputs": [
    {
     "name": "stdout",
     "output_type": "stream",
     "text": [
      "1.A.6:\n",
      "\t1880 unique tokens found (after stemming)\n",
      "\n",
      "\t10 most frequent words:\n",
      "\t\tsaid: 462\n",
      "\t\talic: 399\n",
      "\t\tnt: 217\n",
      "\t\tlittl: 128\n",
      "\t\tone: 105\n",
      "\t\tlook: 104\n",
      "\t\tlike: 97\n",
      "\t\twould: 96\n",
      "\t\tknow: 92\n",
      "\t\tcould: 86\n",
      "\n",
      "\t10 least frequent words:\n",
      "\t\twriggl: 1\n",
      "\t\twrith: 1\n",
      "\t\tx: 1\n",
      "\t\txi: 1\n",
      "\t\txii: 1\n",
      "\t\tyard: 1\n",
      "\t\tyell: 1\n",
      "\t\tyelp: 1\n",
      "\t\tzealand: 1\n",
      "\t\tzigzag: 1\n"
     ]
    }
   ],
   "source": [
    "stemmer = PorterStemmer()\n",
    "\n",
    "# Get list of tuples (token, stem)\n",
    "stems =  [\n",
    "    (token, stemmer.stem(token)) \n",
    "        for token in tokensNoStop\n",
    "]\n",
    "\n",
    "# Put back into dictionary\n",
    "stemTokens = {}\n",
    "\n",
    "# Combine all tokens with same stem\n",
    "for token, stem in stems:\n",
    "    try:\n",
    "        stemTokens[stem] += tokensNoStop[token]\n",
    "    except:\n",
    "        stemTokens[stem] = tokensNoStop[token]\n",
    "\n",
    "# Resort by frequency\n",
    "stemTokens = sortByFrequency(stemTokens)\n",
    "\n",
    "tokenCount[\"A\"].append(len(stemTokens))\n",
    "\n",
    "\n",
    "print(f\"1.A.6:\\n\\t{len(stemTokens)} unique tokens found (after stemming)\\n\")\n",
    "\n",
    "print(\"\\t10 most frequent words:\")\n",
    "for key in list(stemTokens.keys())[:10]:\n",
    "    print(f\"\\t\\t{key}: {stemTokens[key]}\")\n",
    "\n",
    "print(\"\\n\\t10 least frequent words:\")\n",
    "for key in list(stemTokens.keys())[-10:]:\n",
    "    print(f\"\\t\\t{key}: {stemTokens[key]}\")"
   ]
  },
  {
   "cell_type": "markdown",
   "metadata": {},
   "source": [
    "## 1.B: Use the list of sentence tokens"
   ]
  },
  {
   "cell_type": "markdown",
   "metadata": {},
   "source": [
    "### 1.B.1: Extract the POS of all tokens"
   ]
  },
  {
   "cell_type": "code",
   "execution_count": 18,
   "metadata": {},
   "outputs": [
    {
     "name": "stdout",
     "output_type": "stream",
     "text": [
      "1.B.1: Parts of speech tuples from the middle of the book:\n",
      "\t('then', 'RB')\n",
      "\t('it', 'PRP')\n",
      "\t('was', 'VBD')\n"
     ]
    }
   ],
   "source": [
    "# List of sentence tokens = `words`\n",
    "\n",
    "wordsPos = []\n",
    "\n",
    "for sentenceArr in words:\n",
    "    posSentence = pos_tag(sentenceArr)\n",
    "    wordsPos.extend(posSentence)\n",
    "\n",
    "print(f\"1.B.1: Parts of speech tuples from the middle of the book:\")\n",
    "\n",
    "tokenCount[\"B\"].append(len(wordsPos))\n",
    "\n",
    "\n",
    "for i in range( int((len(wordsPos)/2) - 1), int((len(wordsPos)/2) + 2) ):\n",
    "    print(f\"\\t{wordsPos[i]}\")"
   ]
  },
  {
   "cell_type": "markdown",
   "metadata": {},
   "source": [
    "### 1.B.2: Lemmatize nouns, verbs, adjectives, and adverbs"
   ]
  },
  {
   "cell_type": "code",
   "execution_count": 262,
   "metadata": {},
   "outputs": [
    {
     "name": "stdout",
     "output_type": "stream",
     "text": [
      "1.B.2: Parts of speech tuples from the middle of the book:\n",
      "\t('`', 'None')\n",
      "\t('then', 'r')\n",
      "\t('it', 'p')\n",
      "\t('be', 'v')\n",
      "\t(\"n't\", 'r')\n"
     ]
    }
   ],
   "source": [
    "# Change to 2d numpy array bc its easier to use\n",
    "wordsPosArr = np.array(wordsPos)\n",
    "\n",
    "# Change pos to be only first letter\n",
    "wordsPosArr[:, 1] = list(map(\n",
    "    lambda pos:\n",
    "        'a'\n",
    "            if pos[0].lower() == 'j'\n",
    "        else\n",
    "            None\n",
    "                if re.search(r\"[a-z]+\", pos[0].lower()) == None\n",
    "            else\n",
    "                pos[0].lower(),\n",
    "    wordsPosArr[:, 1]\n",
    "))\n",
    "\n",
    "lemmatizer = WordNetLemmatizer()\n",
    "\n",
    "\n",
    "lemmatized = []\n",
    "for (word, pos) in wordsPosArr:\n",
    "    if pos in [\"n\", \"v\", \"a\", \"r\"]:\n",
    "        lemmatized.append((lemmatizer.lemmatize(word, pos), pos))\n",
    "    else:\n",
    "        lemmatized.append((word, pos))\n",
    "\n",
    "tokenCount[\"B\"].append(len(lemmatized))\n",
    "\n",
    "\n",
    "print(f\"1.B.2: Parts of speech tuples from the middle of the book:\")\n",
    "\n",
    "for i in range( int((len(lemmatized)/2) - 2), int((len(lemmatized)/2) + 3) ):\n",
    "    print(f\"\\t{lemmatized[i]}\")\n"
   ]
  },
  {
   "cell_type": "markdown",
   "metadata": {},
   "source": [
    "### 1.B.3: Store unique tuples and their frequency"
   ]
  },
  {
   "cell_type": "code",
   "execution_count": 20,
   "metadata": {},
   "outputs": [
    {
     "name": "stdout",
     "output_type": "stream",
     "text": [
      "1.B.3: 2494 unique tuples found\n"
     ]
    }
   ],
   "source": [
    "def getUniqueLemmatized(lemmatized):\n",
    "    arr = np.unique(lemmatized, axis=0, return_counts=True)\n",
    "    lemmatizedUnique = {}\n",
    "\n",
    "    for i in range(len(arr[0])):\n",
    "        token, pos = arr[0][i]\n",
    "        frequency = arr[1][i]\n",
    "        \n",
    "        lemmatizedUnique[(token, pos)] = frequency\n",
    "    return lemmatizedUnique\n",
    "\n",
    "lemmatizedUnique = getUniqueLemmatized(lemmatized)\n",
    "\n",
    "tokenCount[\"B\"].append(len(lemmatizedUnique))\n",
    "\n",
    "\n",
    "print(f\"1.B.3: {len(lemmatizedUnique)} unique tuples found\")"
   ]
  },
  {
   "cell_type": "markdown",
   "metadata": {},
   "source": [
    "### 1.B.4: Sort dictionary by frequency"
   ]
  },
  {
   "cell_type": "code",
   "execution_count": 21,
   "metadata": {},
   "outputs": [
    {
     "name": "stdout",
     "output_type": "stream",
     "text": [
      "1.B.4:\n",
      "\t10 most frequent words:\n",
      "\t\t(',', 'None'): 2418\n",
      "\t\t('the', 'd'): 1639\n",
      "\t\t('`', 'None'): 1109\n",
      "\t\t(\"'\", 'None'): 1064\n",
      "\t\t('.', 'None'): 970\n",
      "\t\t('and', 'c'): 866\n",
      "\t\t('be', 'v'): 848\n",
      "\t\t('to', 't'): 725\n",
      "\t\t('a', 'd'): 631\n",
      "\t\t('it', 'p'): 595\n",
      "\n",
      "\t10 least frequent words:\n",
      "\t\t('x', 'v'): 1\n",
      "\t\t('xi', 'n'): 1\n",
      "\t\t('xii', 'n'): 1\n",
      "\t\t('yard', 'n'): 1\n",
      "\t\t('ye', 'n'): 1\n",
      "\t\t('yell', 'v'): 1\n",
      "\t\t('yelp', 'n'): 1\n",
      "\t\t('yes', 'u'): 1\n",
      "\t\t('zealand', 'n'): 1\n",
      "\t\t('zigzag', 'n'): 1\n"
     ]
    }
   ],
   "source": [
    "lemmatizedSorted = sortByFrequency(lemmatizedUnique)\n",
    "\n",
    "print(f\"1.B.4:\")\n",
    "\n",
    "tokenCount[\"B\"].append(len(lemmatizedSorted))\n",
    "\n",
    "\n",
    "print(\"\\t10 most frequent words:\")\n",
    "for key in list(lemmatizedSorted.keys())[:10]:\n",
    "    print(f\"\\t\\t{key}: {lemmatizedSorted[key]}\")\n",
    "\n",
    "print(\"\\n\\t10 least frequent words:\")\n",
    "for key in list(lemmatizedSorted.keys())[-10:]:\n",
    "    print(f\"\\t\\t{key}: {lemmatizedSorted[key]}\")"
   ]
  },
  {
   "cell_type": "markdown",
   "metadata": {},
   "source": [
    "### 1.B.5: Remove tokens with only punctuation\n",
    "In the README it says to remove tuples with empty POS\n",
    "However, some pucntuation marks for some reason were assigned an actual part of speech for some reason (i.e: (\"'\", \"n\")), so I also need to remove that."
   ]
  },
  {
   "cell_type": "code",
   "execution_count": 22,
   "metadata": {},
   "outputs": [
    {
     "name": "stdout",
     "output_type": "stream",
     "text": [
      "1.B.5:\n",
      "\t2474 unique tuples found\n",
      "\n",
      "\t10 most frequent words:\n",
      "\t\t('the', 'd'): 1639\n",
      "\t\t('and', 'c'): 866\n",
      "\t\t('be', 'v'): 848\n",
      "\t\t('to', 't'): 725\n",
      "\t\t('a', 'd'): 631\n",
      "\t\t('it', 'p'): 595\n",
      "\t\t('she', 'p'): 553\n",
      "\t\t('say', 'v'): 532\n",
      "\t\t('of', 'i'): 511\n",
      "\t\t('you', 'p'): 411\n",
      "\n",
      "\t10 least frequent words:\n",
      "\t\t('x', 'v'): 1\n",
      "\t\t('xi', 'n'): 1\n",
      "\t\t('xii', 'n'): 1\n",
      "\t\t('yard', 'n'): 1\n",
      "\t\t('ye', 'n'): 1\n",
      "\t\t('yell', 'v'): 1\n",
      "\t\t('yelp', 'n'): 1\n",
      "\t\t('yes', 'u'): 1\n",
      "\t\t('zealand', 'n'): 1\n",
      "\t\t('zigzag', 'n'): 1\n"
     ]
    }
   ],
   "source": [
    "lemmatizedNoPunc = {}\n",
    "\n",
    "for key in lemmatizedSorted.keys():\n",
    "    word, pos = key\n",
    "    if(pos == \"NONE\" or len(re.sub(r'[\\!\"#\\$%&\\'\\(\\)\\*\\+,\\-\\.\\/\\:;\\<\\=\\>\\?@\\[\\\\\\]\\^_\\`\\{\\|\\}~\\s]+', '', word)) == 0):\n",
    "        continue\n",
    "    else:\n",
    "        lemmatizedNoPunc[key] = lemmatizedSorted[key]\n",
    "\n",
    "tokenCount[\"B\"].append(len(lemmatizedNoPunc))\n",
    "\n",
    "\n",
    "print(f\"1.B.5:\")\n",
    "print(f\"\\t{len(lemmatizedNoPunc)} unique tuples found\\n\")\n",
    "\n",
    "print(\"\\t10 most frequent words:\")\n",
    "for key in list(lemmatizedNoPunc.keys())[:10]:\n",
    "    print(f\"\\t\\t{key}: {lemmatizedNoPunc[key]}\")\n",
    "\n",
    "print(\"\\n\\t10 least frequent words:\")\n",
    "for key in list(lemmatizedNoPunc.keys())[-10:]:\n",
    "    print(f\"\\t\\t{key}: {lemmatizedNoPunc[key]}\")"
   ]
  },
  {
   "cell_type": "markdown",
   "metadata": {},
   "source": [
    "### 1.B.6: Remove all tuples that are not nouns, adjectives, adverbs, or verbs"
   ]
  },
  {
   "cell_type": "code",
   "execution_count": 23,
   "metadata": {},
   "outputs": [
    {
     "name": "stdout",
     "output_type": "stream",
     "text": [
      "1.B.6:\n",
      "\t2305 unique tuples found\n",
      "\n",
      "\t10 most frequent words:\n",
      "\t\t('be', 'v'): 848\n",
      "\t\t('say', 'v'): 532\n",
      "\t\t('i', 'n'): 335\n",
      "\t\t('alice', 'n'): 312\n",
      "\t\t('have', 'v'): 293\n",
      "\t\t('do', 'v'): 263\n",
      "\t\t(\"n't\", 'r'): 217\n",
      "\t\t('go', 'v'): 179\n",
      "\t\t('not', 'r'): 146\n",
      "\t\t('very', 'r'): 144\n",
      "\n",
      "\t10 least frequent words:\n",
      "\t\t('wrong', 'r'): 1\n",
      "\t\t('x', 'v'): 1\n",
      "\t\t('xi', 'n'): 1\n",
      "\t\t('xii', 'n'): 1\n",
      "\t\t('yard', 'n'): 1\n",
      "\t\t('ye', 'n'): 1\n",
      "\t\t('yell', 'v'): 1\n",
      "\t\t('yelp', 'n'): 1\n",
      "\t\t('zealand', 'n'): 1\n",
      "\t\t('zigzag', 'n'): 1\n"
     ]
    }
   ],
   "source": [
    "lemmatizedFiltered = {}\n",
    "\n",
    "for key in lemmatizedNoPunc.keys():\n",
    "    word, pos = key\n",
    "    if(pos in [\"n\", \"v\", \"a\", \"r\"]):\n",
    "        lemmatizedFiltered[key] = lemmatizedNoPunc[key]\n",
    "\n",
    "lemmatizedFiltered\n",
    "\n",
    "tokenCount[\"B\"].append(len(lemmatizedFiltered))\n",
    "\n",
    "\n",
    "print(f\"1.B.6:\")\n",
    "print(f\"\\t{len(lemmatizedFiltered)} unique tuples found\\n\")\n",
    "\n",
    "print(\"\\t10 most frequent words:\")\n",
    "for key in list(lemmatizedFiltered.keys())[:10]:\n",
    "    print(f\"\\t\\t{key}: {lemmatizedFiltered[key]}\")\n",
    "\n",
    "print(\"\\n\\t10 least frequent words:\")\n",
    "for key in list(lemmatizedFiltered.keys())[-10:]:\n",
    "    print(f\"\\t\\t{key}: {lemmatizedFiltered[key]}\")"
   ]
  },
  {
   "cell_type": "markdown",
   "metadata": {},
   "source": [
    "## 1.C: Observations"
   ]
  },
  {
   "cell_type": "code",
   "execution_count": 24,
   "metadata": {},
   "outputs": [],
   "source": [
    "from matplotlib import pyplot as plt"
   ]
  },
  {
   "cell_type": "code",
   "execution_count": 25,
   "metadata": {},
   "outputs": [
    {
     "name": "stdout",
     "output_type": "stream",
     "text": [
      "1.A:\n",
      "\t1: 34448 tokens\n",
      "\t2: 2625 tokens (- 31823)\n",
      "\t3: 2625 tokens (- 0)\n",
      "\t4: 2594 tokens (- 31)\n",
      "\t5: 2462 tokens (- 132)\n",
      "\t6: 1880 tokens (- 582)\n",
      "1.B:\n",
      "\t1: 34448 tokens\n",
      "\t2: 34448 tokens (- 0)\n",
      "\t3: 2494 tokens (- 31954)\n",
      "\t4: 2494 tokens (- 0)\n",
      "\t5: 2474 tokens (- 20)\n",
      "\t6: 2305 tokens (- 169)\n"
     ]
    },
    {
     "data": {
      "image/png": "[encoded data removed]",
      "text/plain": [
       "<Figure size 640x480 with 1 Axes>"
      ]
     },
     "metadata": {},
     "output_type": "display_data"
    }
   ],
   "source": [
    "# A\n",
    "x = np.arange(0.7, len(tokenCount[\"A\"])+0.7, 1)\n",
    "\n",
    "plt.bar(\n",
    "    x,\n",
    "    tokenCount[\"A\"],\n",
    "    width=0.3,\n",
    "    align=\"edge\"\n",
    ")\n",
    "\n",
    "\n",
    "y = []\n",
    "for i in range(1, len(tokenCount[\"A\"])):\n",
    "    y.append(tokenCount[\"A\"][i-1] - tokenCount[\"A\"][i])\n",
    "    \n",
    "x = np.arange(1.7, len(y)+1.7, 1)\n",
    "\n",
    "plt.bar(\n",
    "    x,\n",
    "    y,\n",
    "    width=0.3,\n",
    "    align=\"edge\",\n",
    "    color=\"none\",\n",
    "    hatch=\"/\",\n",
    "    edgecolor=\"darkblue\"\n",
    ")\n",
    "\n",
    "# B\n",
    "x = np.arange(1, len(tokenCount[\"B\"])+1, 1)\n",
    "\n",
    "plt.bar(\n",
    "    x,\n",
    "    tokenCount[\"B\"],\n",
    "    width=0.3,\n",
    "    align=\"edge\"\n",
    ")\n",
    "\n",
    "y = []\n",
    "for i in range(1, len(tokenCount[\"B\"])):\n",
    "    y.append(tokenCount[\"B\"][i-1] - tokenCount[\"B\"][i])\n",
    "\n",
    "x = np.arange(2, len(y)+2, 1)\n",
    "\n",
    "plt.bar(\n",
    "    x,\n",
    "    y,\n",
    "    width=0.3,\n",
    "    align=\"edge\",\n",
    "    color=\"none\",\n",
    "    hatch=\"/\",\n",
    "    edgecolor=\"saddlebrown\"\n",
    ")\n",
    "\n",
    "plt.legend(labels=[\"A: Token Count\", \"A: Token Decrease\", \"B: Token Count\", \"B: Token Decrease\"])\n",
    "\n",
    "for key, value in tokenCount.items():\n",
    "    if(key == \"2\"): break\n",
    "    print(f\"1.{key}:\")\n",
    "    for i in range(len(value)):\n",
    "        print(f\"\\t{i+1}: {value[i]} tokens\", end=\"\")\n",
    "        if(i > 0):\n",
    "            print(f\" (- {value[i-1] - value[i]})\")\n",
    "        else:\n",
    "            print()\n"
   ]
  },
  {
   "cell_type": "markdown",
   "metadata": {},
   "source": [
    "**1.C:** Part B (lemmatization) results in the better list of tokens. Not only does it include more overall information (parts of speech), but the end result has less tokens overall since most unimportant words (i.e: prepositions) are removed. In addition to that, the stemming in part A results in some very strange words after stemming, such as changing \"Alice\" to \"Alic\" or \"little\" to \"littl\"."
   ]
  },
  {
   "cell_type": "markdown",
   "metadata": {},
   "source": [
    "## 1.D"
   ]
  },
  {
   "cell_type": "markdown",
   "metadata": {},
   "source": [
    "**1.D**: It could be useful to use the token frequencies to remove tokens that only appear once or twice in the text. These words are very unimportant to the subject matter. Therefore extraneous information would be removed, shortening the token list."
   ]
  },
  {
   "cell_type": "code",
   "execution_count": 219,
   "metadata": {},
   "outputs": [
    {
     "name": "stdout",
     "output_type": "stream",
     "text": [
      "Part A: 1135 unique tokens\n",
      "Part B: 1201 unique tokens\n"
     ]
    }
   ],
   "source": [
    "partAFinal = {\n",
    "    key: value\n",
    "        for key, value in stemTokens.items()\n",
    "            if(value > 1)\n",
    "}\n",
    "tokenCount[\"A\"].append(len(partAFinal))\n",
    "\n",
    "print(f\"Part A: {len(partAFinal)} unique tokens\")\n",
    "\n",
    "partBFinal = {\n",
    "    key: value\n",
    "        for key, value in lemmatizedFiltered.items()\n",
    "            if(value > 1)\n",
    "}\n",
    "tokenCount[\"B\"].append(len(partBFinal))\n",
    "\n",
    "print(f\"Part B: {len(partBFinal)} unique tokens\")"
   ]
  },
  {
   "cell_type": "code",
   "execution_count": 221,
   "metadata": {},
   "outputs": [
    {
     "name": "stdout",
     "output_type": "stream",
     "text": [
      "1.A:\n",
      "\t1: 34448 tokens\n",
      "\t2: 2625 tokens (- 31823)\n",
      "\t3: 2625 tokens (- 0)\n",
      "\t4: 2594 tokens (- 31)\n",
      "\t5: 2462 tokens (- 132)\n",
      "\t6: 1880 tokens (- 582)\n",
      "\t7: 1135 tokens (- 745)\n",
      "1.B:\n",
      "\t1: 34448 tokens\n",
      "\t2: 34448 tokens (- 0)\n",
      "\t3: 2494 tokens (- 31954)\n",
      "\t4: 2494 tokens (- 0)\n",
      "\t5: 2474 tokens (- 20)\n",
      "\t6: 2305 tokens (- 169)\n",
      "\t7: 1201 tokens (- 1104)\n"
     ]
    },
    {
     "data": {
      "image/png": "[encoded data removed]",
      "text/plain": [
       "<Figure size 640x480 with 1 Axes>"
      ]
     },
     "metadata": {},
     "output_type": "display_data"
    }
   ],
   "source": [
    "# A\n",
    "x = np.arange(0.7, len(tokenCount[\"A\"])+0.7, 1)\n",
    "\n",
    "plt.bar(\n",
    "    x,\n",
    "    tokenCount[\"A\"],\n",
    "    width=0.3,\n",
    "    align=\"edge\"\n",
    ")\n",
    "\n",
    "\n",
    "y = []\n",
    "for i in range(1, len(tokenCount[\"A\"])):\n",
    "    y.append(tokenCount[\"A\"][i-1] - tokenCount[\"A\"][i])\n",
    "    \n",
    "x = np.arange(1.7, len(y)+1.7, 1)\n",
    "\n",
    "plt.bar(\n",
    "    x,\n",
    "    y,\n",
    "    width=0.3,\n",
    "    align=\"edge\",\n",
    "    color=\"none\",\n",
    "    hatch=\"/\",\n",
    "    edgecolor=\"darkblue\"\n",
    ")\n",
    "\n",
    "# B\n",
    "x = np.arange(1, len(tokenCount[\"B\"])+1, 1)\n",
    "\n",
    "plt.bar(\n",
    "    x,\n",
    "    tokenCount[\"B\"],\n",
    "    width=0.3,\n",
    "    align=\"edge\"\n",
    ")\n",
    "\n",
    "y = []\n",
    "for i in range(1, len(tokenCount[\"B\"])):\n",
    "    y.append(tokenCount[\"B\"][i-1] - tokenCount[\"B\"][i])\n",
    "\n",
    "x = np.arange(2, len(y)+2, 1)\n",
    "\n",
    "plt.bar(\n",
    "    x,\n",
    "    y,\n",
    "    width=0.3,\n",
    "    align=\"edge\",\n",
    "    color=\"none\",\n",
    "    hatch=\"/\",\n",
    "    edgecolor=\"saddlebrown\"\n",
    ")\n",
    "\n",
    "plt.legend(labels=[\"A: Token Count\", \"A: Token Decrease\", \"B: Token Count\", \"B: Token Decrease\"])\n",
    "\n",
    "for key, value in tokenCount.items():\n",
    "    if(key not in [\"A\", \"B\"]): break\n",
    "    print(f\"1.{key}:\")\n",
    "    for i in range(len(value)):\n",
    "        print(f\"\\t{i+1}: {value[i]} tokens\", end=\"\")\n",
    "        if(i > 0):\n",
    "            print(f\" (- {value[i-1] - value[i]})\")\n",
    "        else:\n",
    "            print()\n"
   ]
  },
  {
   "cell_type": "markdown",
   "metadata": {},
   "source": [
    "This extra stepped greatly reduced both token lists without removing any important words"
   ]
  },
  {
   "cell_type": "markdown",
   "metadata": {},
   "source": [
    "# 2: Use the `spacy` library to tokenize and lemmatize the same text"
   ]
  },
  {
   "cell_type": "markdown",
   "metadata": {},
   "source": [
    "## 2.A: Use `spacy` to process the file and apply the processing steps\n",
    "(Lowercase, remove stopwords & punctuation marks, lemmatize words)"
   ]
  },
  {
   "cell_type": "code",
   "execution_count": 223,
   "metadata": {},
   "outputs": [
    {
     "name": "stderr",
     "output_type": "stream",
     "text": [
      "6604.54s - pydevd: Sending message related to process being replaced timed-out after 5 seconds\n"
     ]
    },
    {
     "name": "stdout",
     "output_type": "stream",
     "text": [
      "2025-09-14 20:13:52.753841: I tensorflow/core/util/port.cc:153] oneDNN custom operations are on. You may see slightly different numerical results due to floating-point round-off errors from different computation orders. To turn them off, set the environment variable `TF_ENABLE_ONEDNN_OPTS=0`.\n",
      "2025-09-14 20:13:52.782515: I tensorflow/core/platform/cpu_feature_guard.cc:210] This TensorFlow binary is optimized to use available CPU instructions in performance-critical operations.\n",
      "To enable the following instructions: AVX2 AVX_VNNI FMA, in other operations, rebuild TensorFlow with the appropriate compiler flags.\n",
      "2025-09-14 20:13:54.009106: I tensorflow/core/util/port.cc:153] oneDNN custom operations are on. You may see slightly different numerical results due to floating-point round-off errors from different computation orders. To turn them off, set the environment variable `TF_ENABLE_ONEDNN_OPTS=0`.\n",
      "Defaulting to user installation because normal site-packages is not writeable\n",
      "Collecting en-core-web-sm==3.6.0\n",
      "  Downloading https://github.com/explosion/spacy-models/releases/download/en_core_web_sm-3.6.0/en_core_web_sm-3.6.0-py3-none-any.whl (12.8 MB)\n",
      "\u001b[2K     \u001b[90m━━━━━━━━━━━━━━━━━━━━━━━━━━━━━━━━━━━━━━━━\u001b[0m \u001b[32m12.8/12.8 MB\u001b[0m \u001b[31m53.2 MB/s\u001b[0m eta \u001b[36m0:00:00\u001b[0m00:01\u001b[0m00:01\u001b[0m\n",
      "\u001b[?25hRequirement already satisfied: spacy<3.7.0,>=3.6.0 in /var/data/python/lib/python3.11/site-packages (from en-core-web-sm==3.6.0) (3.6.1)\n",
      "Requirement already satisfied: spacy-legacy<3.1.0,>=3.0.11 in /var/data/python/lib/python3.11/site-packages (from spacy<3.7.0,>=3.6.0->en-core-web-sm==3.6.0) (3.0.12)\n",
      "Requirement already satisfied: spacy-loggers<2.0.0,>=1.0.0 in /var/data/python/lib/python3.11/site-packages (from spacy<3.7.0,>=3.6.0->en-core-web-sm==3.6.0) (1.0.5)\n",
      "Requirement already satisfied: murmurhash<1.1.0,>=0.28.0 in /var/data/python/lib/python3.11/site-packages (from spacy<3.7.0,>=3.6.0->en-core-web-sm==3.6.0) (1.0.13)\n",
      "Requirement already satisfied: cymem<2.1.0,>=2.0.2 in /var/data/python/lib/python3.11/site-packages (from spacy<3.7.0,>=3.6.0->en-core-web-sm==3.6.0) (2.0.11)\n",
      "Requirement already satisfied: preshed<3.1.0,>=3.0.2 in /var/data/python/lib/python3.11/site-packages (from spacy<3.7.0,>=3.6.0->en-core-web-sm==3.6.0) (3.0.10)\n",
      "Requirement already satisfied: thinc<8.2.0,>=8.1.8 in /var/data/python/lib/python3.11/site-packages (from spacy<3.7.0,>=3.6.0->en-core-web-sm==3.6.0) (8.1.12)\n",
      "Requirement already satisfied: wasabi<1.2.0,>=0.9.1 in /var/data/python/lib/python3.11/site-packages (from spacy<3.7.0,>=3.6.0->en-core-web-sm==3.6.0) (1.1.3)\n",
      "Requirement already satisfied: srsly<3.0.0,>=2.4.3 in /var/data/python/lib/python3.11/site-packages (from spacy<3.7.0,>=3.6.0->en-core-web-sm==3.6.0) (2.5.1)\n",
      "Requirement already satisfied: catalogue<2.1.0,>=2.0.6 in /var/data/python/lib/python3.11/site-packages (from spacy<3.7.0,>=3.6.0->en-core-web-sm==3.6.0) (2.0.10)\n",
      "Requirement already satisfied: typer<0.10.0,>=0.3.0 in /var/data/python/lib/python3.11/site-packages (from spacy<3.7.0,>=3.6.0->en-core-web-sm==3.6.0) (0.9.4)\n",
      "Requirement already satisfied: pathy>=0.10.0 in /var/data/python/lib/python3.11/site-packages (from spacy<3.7.0,>=3.6.0->en-core-web-sm==3.6.0) (0.11.0)\n",
      "Requirement already satisfied: smart-open<7.0.0,>=5.2.1 in /var/data/python/lib/python3.11/site-packages (from spacy<3.7.0,>=3.6.0->en-core-web-sm==3.6.0) (6.4.0)\n",
      "Requirement already satisfied: tqdm<5.0.0,>=4.38.0 in /var/data/python/lib/python3.11/site-packages (from spacy<3.7.0,>=3.6.0->en-core-web-sm==3.6.0) (4.66.2)\n",
      "Requirement already satisfied: numpy>=1.15.0 in /var/data/python/lib/python3.11/site-packages (from spacy<3.7.0,>=3.6.0->en-core-web-sm==3.6.0) (1.26.4)\n",
      "Requirement already satisfied: requests<3.0.0,>=2.13.0 in /var/data/python/lib/python3.11/site-packages (from spacy<3.7.0,>=3.6.0->en-core-web-sm==3.6.0) (2.32.3)\n",
      "Requirement already satisfied: pydantic!=1.8,!=1.8.1,<3.0.0,>=1.7.4 in /var/data/python/lib/python3.11/site-packages (from spacy<3.7.0,>=3.6.0->en-core-web-sm==3.6.0) (2.11.7)\n",
      "Requirement already satisfied: jinja2 in /var/data/python/lib/python3.11/site-packages (from spacy<3.7.0,>=3.6.0->en-core-web-sm==3.6.0) (3.1.3)\n",
      "Requirement already satisfied: setuptools in /var/data/python/lib/python3.11/site-packages (from spacy<3.7.0,>=3.6.0->en-core-web-sm==3.6.0) (65.5.0)\n",
      "Requirement already satisfied: packaging>=20.0 in /var/data/python/lib/python3.11/site-packages (from spacy<3.7.0,>=3.6.0->en-core-web-sm==3.6.0) (24.2)\n",
      "Requirement already satisfied: langcodes<4.0.0,>=3.2.0 in /var/data/python/lib/python3.11/site-packages (from spacy<3.7.0,>=3.6.0->en-core-web-sm==3.6.0) (3.5.0)\n",
      "Requirement already satisfied: language-data>=1.2 in /var/data/python/lib/python3.11/site-packages (from langcodes<4.0.0,>=3.2.0->spacy<3.7.0,>=3.6.0->en-core-web-sm==3.6.0) (1.3.0)\n",
      "Requirement already satisfied: pathlib-abc==0.1.1 in /var/data/python/lib/python3.11/site-packages (from pathy>=0.10.0->spacy<3.7.0,>=3.6.0->en-core-web-sm==3.6.0) (0.1.1)\n",
      "Requirement already satisfied: annotated-types>=0.6.0 in /var/data/python/lib/python3.11/site-packages (from pydantic!=1.8,!=1.8.1,<3.0.0,>=1.7.4->spacy<3.7.0,>=3.6.0->en-core-web-sm==3.6.0) (0.7.0)\n",
      "Requirement already satisfied: pydantic-core==2.33.2 in /var/data/python/lib/python3.11/site-packages (from pydantic!=1.8,!=1.8.1,<3.0.0,>=1.7.4->spacy<3.7.0,>=3.6.0->en-core-web-sm==3.6.0) (2.33.2)\n",
      "Requirement already satisfied: typing-extensions>=4.12.2 in /var/data/python/lib/python3.11/site-packages (from pydantic!=1.8,!=1.8.1,<3.0.0,>=1.7.4->spacy<3.7.0,>=3.6.0->en-core-web-sm==3.6.0) (4.14.0)\n",
      "Requirement already satisfied: typing-inspection>=0.4.0 in /var/data/python/lib/python3.11/site-packages (from pydantic!=1.8,!=1.8.1,<3.0.0,>=1.7.4->spacy<3.7.0,>=3.6.0->en-core-web-sm==3.6.0) (0.4.1)\n",
      "Requirement already satisfied: charset-normalizer<4,>=2 in /var/data/python/lib/python3.11/site-packages (from requests<3.0.0,>=2.13.0->spacy<3.7.0,>=3.6.0->en-core-web-sm==3.6.0) (3.4.2)\n",
      "Requirement already satisfied: idna<4,>=2.5 in /var/data/python/lib/python3.11/site-packages (from requests<3.0.0,>=2.13.0->spacy<3.7.0,>=3.6.0->en-core-web-sm==3.6.0) (3.10)\n",
      "Requirement already satisfied: urllib3<3,>=1.21.1 in /var/data/python/lib/python3.11/site-packages (from requests<3.0.0,>=2.13.0->spacy<3.7.0,>=3.6.0->en-core-web-sm==3.6.0) (2.4.0)\n",
      "Requirement already satisfied: certifi>=2017.4.17 in /var/data/python/lib/python3.11/site-packages (from requests<3.0.0,>=2.13.0->spacy<3.7.0,>=3.6.0->en-core-web-sm==3.6.0) (2025.4.26)\n",
      "Requirement already satisfied: blis<0.8.0,>=0.7.8 in /var/data/python/lib/python3.11/site-packages (from thinc<8.2.0,>=8.1.8->spacy<3.7.0,>=3.6.0->en-core-web-sm==3.6.0) (0.7.11)\n",
      "Requirement already satisfied: confection<1.0.0,>=0.0.1 in /var/data/python/lib/python3.11/site-packages (from thinc<8.2.0,>=8.1.8->spacy<3.7.0,>=3.6.0->en-core-web-sm==3.6.0) (0.1.5)\n",
      "Requirement already satisfied: click<9.0.0,>=7.1.1 in /var/data/python/lib/python3.11/site-packages (from typer<0.10.0,>=0.3.0->spacy<3.7.0,>=3.6.0->en-core-web-sm==3.6.0) (8.2.1)\n",
      "Requirement already satisfied: MarkupSafe>=2.0 in /var/data/python/lib/python3.11/site-packages (from jinja2->spacy<3.7.0,>=3.6.0->en-core-web-sm==3.6.0) (2.1.5)\n",
      "Requirement already satisfied: marisa-trie>=1.1.0 in /var/data/python/lib/python3.11/site-packages (from language-data>=1.2->langcodes<4.0.0,>=3.2.0->spacy<3.7.0,>=3.6.0->en-core-web-sm==3.6.0) (1.3.1)\n",
      "\u001b[38;5;2m✔ Download and installation successful\u001b[0m\n",
      "You can now load the package via spacy.load('en_core_web_sm')\n"
     ]
    }
   ],
   "source": [
    "! python -m spacy download en_core_web_sm"
   ]
  },
  {
   "cell_type": "code",
   "execution_count": 224,
   "metadata": {},
   "outputs": [],
   "source": [
    "nlp = spacy.load(\"en_core_web_sm\")"
   ]
  },
  {
   "cell_type": "code",
   "execution_count": 245,
   "metadata": {},
   "outputs": [
    {
     "name": "stdout",
     "output_type": "stream",
     "text": [
      "37965 tokens found.\n"
     ]
    }
   ],
   "source": [
    "# Tokenize and lowercase\n",
    "\n",
    "processed = nlp(txt.lower())\n",
    "\n",
    "tokenCount[\"2\"] = [len(processed)]\n",
    "\n",
    "print(f\"{len(processed)} tokens found.\")"
   ]
  },
  {
   "cell_type": "code",
   "execution_count": 246,
   "metadata": {},
   "outputs": [
    {
     "name": "stdout",
     "output_type": "stream",
     "text": [
      "3102 unique tokens found.\n",
      "\n",
      "\t10 most frequent words:\n",
      "\t\t(',', 'PUNCT'): 2418\n",
      "\t\t('\\n', 'SPACE'): 1750\n",
      "\t\t('the', 'DET'): 1639\n",
      "\t\t('`', 'PUNCT'): 1103\n",
      "\t\t(\"'\", 'PUNCT'): 1080\n",
      "\t\t('.', 'PUNCT'): 972\n",
      "\t\t('and', 'CCONJ'): 869\n",
      "\t\t('\\n\\n  ', 'SPACE'): 731\n",
      "\t\t(' ', 'SPACE'): 682\n",
      "\t\t('a', 'DET'): 631\n",
      "\n",
      "\t10 least frequent words:\n",
      "\t\t('yawning', 'NOUN'): 1\n",
      "\t\t('yawning', 'VERB'): 1\n",
      "\t\t('ye', 'ADJ'): 1\n",
      "\t\t('years', 'NOUN'): 1\n",
      "\t\t('yelled', 'VERB'): 1\n",
      "\t\t('yelp', 'NOUN'): 1\n",
      "\t\t(\"you've\", 'X'): 1\n",
      "\t\t('yours', 'PRON'): 1\n",
      "\t\t('zealand', 'PROPN'): 1\n",
      "\t\t('zigzag', 'NOUN'): 1\n"
     ]
    }
   ],
   "source": [
    "# Get unique tokens & frequencies, etc.\n",
    "\n",
    "#0=token, 1=pos, 2=lemma, 3=is stop word, 4=is punctuation\n",
    "processedArr = [\n",
    "    (str(token), str(token.pos_), str(token.lemma_), bool(token.is_stop), bool(token.is_punct))\n",
    "        for token in processed\n",
    "]\n",
    "\n",
    "processedUnique = np.unique(processedArr, axis=0, return_counts=True)\n",
    "\n",
    "processedFreq = {}\n",
    "for i in range(len(processedUnique[0])):\n",
    "    key = tuple(processedUnique[0][i])\n",
    "    val = processedUnique[1][i]\n",
    "\n",
    "    processedFreq[key] = val\n",
    "\n",
    "processedFreq = sortByFrequency(processedFreq)\n",
    "\n",
    "tokenCount[\"2\"].append(len(processedFreq))\n",
    "\n",
    "print(f\"{len(processedFreq)} unique tokens found.\\n\")\n",
    "\n",
    "print(\"\\t10 most frequent words:\")\n",
    "for key in list(processedFreq.keys())[:10]:\n",
    "    print(f\"\\t\\t{(key[0], key[1])}: {processedFreq[key]}\")\n",
    "\n",
    "print(\"\\n\\t10 least frequent words:\")\n",
    "for key in list(processedFreq.keys())[-10:]:\n",
    "    print(f\"\\t\\t{(key[0], key[1])}: {processedFreq[key]}\")\n"
   ]
  },
  {
   "cell_type": "code",
   "execution_count": 247,
   "metadata": {},
   "outputs": [
    {
     "name": "stdout",
     "output_type": "stream",
     "text": [
      "2740 unique tokens found (after stop words removed).\n",
      "\n",
      "\t10 most frequent words:\n",
      "\t\t(',', 'PUNCT'): 2418\n",
      "\t\t('\\n', 'SPACE'): 1750\n",
      "\t\t('`', 'PUNCT'): 1103\n",
      "\t\t(\"'\", 'PUNCT'): 1080\n",
      "\t\t('.', 'PUNCT'): 972\n",
      "\t\t('\\n\\n  ', 'SPACE'): 731\n",
      "\t\t(' ', 'SPACE'): 682\n",
      "\t\t('said', 'VERB'): 456\n",
      "\t\t('!', 'PUNCT'): 446\n",
      "\t\t('alice', 'PROPN'): 320\n",
      "\n",
      "\t10 least frequent words:\n",
      "\t\t('yawned', 'VERB'): 1\n",
      "\t\t('yawning', 'NOUN'): 1\n",
      "\t\t('yawning', 'VERB'): 1\n",
      "\t\t('ye', 'ADJ'): 1\n",
      "\t\t('years', 'NOUN'): 1\n",
      "\t\t('yelled', 'VERB'): 1\n",
      "\t\t('yelp', 'NOUN'): 1\n",
      "\t\t(\"you've\", 'X'): 1\n",
      "\t\t('zealand', 'PROPN'): 1\n",
      "\t\t('zigzag', 'NOUN'): 1\n"
     ]
    }
   ],
   "source": [
    "# Remove stop words\n",
    "processedNoStop = {\n",
    "    key: val\n",
    "        for key, val in \n",
    "            processedFreq.items()\n",
    "        if key[3] == 'False'\n",
    "}\n",
    "\n",
    "tokenCount[\"2\"].append(len(processedNoStop))\n",
    "\n",
    "print(f\"{len(processedNoStop)} unique tokens found (after stop words removed).\\n\")\n",
    "\n",
    "print(\"\\t10 most frequent words:\")\n",
    "for key in list(processedNoStop.keys())[:10]:\n",
    "    print(f\"\\t\\t{(key[0], key[1])}: {processedNoStop[key]}\")\n",
    "\n",
    "print(\"\\n\\t10 least frequent words:\")\n",
    "for key in list(processedNoStop.keys())[-10:]:\n",
    "    print(f\"\\t\\t{(key[0], key[1])}: {processedNoStop[key]}\")\n"
   ]
  },
  {
   "cell_type": "code",
   "execution_count": 248,
   "metadata": {},
   "outputs": [
    {
     "name": "stdout",
     "output_type": "stream",
     "text": [
      "2620 unique tokens found (after punctuation removed).\n",
      "\n",
      "\t10 most frequent words:\n",
      "\t\t('said', 'VERB'): 456\n",
      "\t\t('alice', 'PROPN'): 321\n",
      "\t\t('little', 'ADJ'): 127\n",
      "\t\t('know', 'VERB'): 88\n",
      "\t\t('went', 'VERB'): 82\n",
      "\t\t('queen', 'NOUN'): 75\n",
      "\t\t('time', 'NOUN'): 71\n",
      "\t\t('thought', 'VERB'): 69\n",
      "\t\t('king', 'NOUN'): 63\n",
      "\t\t('turtle', 'NOUN'): 59\n",
      "\n",
      "\t10 least frequent words:\n",
      "\t\t('yawned', 'VERB'): 1\n",
      "\t\t('yawning', 'NOUN'): 1\n",
      "\t\t('yawning', 'VERB'): 1\n",
      "\t\t('ye', 'ADJ'): 1\n",
      "\t\t('years', 'NOUN'): 1\n",
      "\t\t('yelled', 'VERB'): 1\n",
      "\t\t('yelp', 'NOUN'): 1\n",
      "\t\t('youve', 'X'): 1\n",
      "\t\t('zealand', 'PROPN'): 1\n",
      "\t\t('zigzag', 'NOUN'): 1\n"
     ]
    }
   ],
   "source": [
    "# Remove punctuation and white space\n",
    "regex = r'[\\!\"#\\$%&\\'\\(\\)\\*\\+,\\-\\.\\/\\:;\\<\\=\\>\\?@\\[\\\\\\]\\^_\\`\\{\\|\\}~\\s]+'\n",
    "\n",
    "processedNoPunc = {}\n",
    "for key, val in processedNoStop.items():\n",
    "    if(key[4] == 'True' or key[1] in [\"SPACE\", \"PUNCT\"]):\n",
    "        continue\n",
    "    else:\n",
    "        # 0=token, 1=pos, 2=lemma\n",
    "        newKey = (re.sub(regex, \"\", key[0]), key[1], re.sub(regex, \"\", key[2]))\n",
    "        try:\n",
    "            processedNoPunc[newKey] += val\n",
    "        except:\n",
    "            processedNoPunc[newKey] = val\n",
    "\n",
    "tokenCount[\"2\"].append(len(processedNoPunc))\n",
    "\n",
    "print(f\"{len(processedNoPunc)} unique tokens found (after punctuation removed).\\n\")\n",
    "\n",
    "print(\"\\t10 most frequent words:\")\n",
    "for key in list(processedNoPunc.keys())[:10]:\n",
    "    print(f\"\\t\\t{key[:2]}: {processedNoPunc[key]}\")\n",
    "\n",
    "print(\"\\n\\t10 least frequent words:\")\n",
    "for key in list(processedNoPunc.keys())[-10:]:\n",
    "    print(f\"\\t\\t{key[:2]}: {processedNoPunc[key]}\")\n"
   ]
  },
  {
   "cell_type": "code",
   "execution_count": 263,
   "metadata": {},
   "outputs": [
    {
     "name": "stdout",
     "output_type": "stream",
     "text": [
      "2098 unique tokens found (after lemmatization).\n",
      "\n",
      "\t10 most frequent words:\n",
      "\t\t('say', 'VERB'): 475\n",
      "\t\t('alice', 'PROPN'): 321\n",
      "\t\t('think', 'VERB'): 131\n",
      "\t\t('go', 'VERB'): 129\n",
      "\t\t('little', 'ADJ'): 127\n",
      "\t\t('know', 'VERB'): 107\n",
      "\t\t('look', 'VERB'): 98\n",
      "\t\t('begin', 'VERB'): 91\n",
      "\t\t('come', 'VERB'): 89\n",
      "\t\t('thing', 'NOUN'): 79\n",
      "\n",
      "\t10 least frequent words:\n",
      "\t\t('xi', 'PROPN'): 1\n",
      "\t\t('xii', 'PROPN'): 1\n",
      "\t\t('yawned', 'ADJ'): 1\n",
      "\t\t('yawning', 'NOUN'): 1\n",
      "\t\t('ye', 'ADJ'): 1\n",
      "\t\t('yell', 'VERB'): 1\n",
      "\t\t('yelp', 'NOUN'): 1\n",
      "\t\t('youve', 'X'): 1\n",
      "\t\t('zealand', 'PROPN'): 1\n",
      "\t\t('zigzag', 'NOUN'): 1\n"
     ]
    }
   ],
   "source": [
    "# Lemmatize\n",
    "processedLemma = {}\n",
    "\n",
    "for key, val in processedNoPunc.items():\n",
    "    try:\n",
    "        processedLemma[(key[2], key[1])] += val\n",
    "    except:\n",
    "        processedLemma[(key[2], key[1])] = val\n",
    "\n",
    "tokenCount[\"2\"].append(len(processedLemma))\n",
    "processedLemma = sortByFrequency(processedLemma)\n",
    "\n",
    "tokenCount[\"2\"].append(len(processedLemma))\n",
    "\n",
    "print(f\"{len(processedLemma)} unique tokens found (after lemmatization).\\n\")\n",
    "\n",
    "print(\"\\t10 most frequent words:\")\n",
    "for key in list(processedLemma.keys())[:10]:\n",
    "    print(f\"\\t\\t{key}: {processedLemma[key]}\")\n",
    "\n",
    "print(\"\\n\\t10 least frequent words:\")\n",
    "for key in list(processedLemma.keys())[-10:]:\n",
    "    print(f\"\\t\\t{key}: {processedLemma[key]}\")\n"
   ]
  },
  {
   "cell_type": "code",
   "execution_count": 250,
   "metadata": {},
   "outputs": [
    {
     "name": "stdout",
     "output_type": "stream",
     "text": [
      "1.A:\n",
      "\t1: 34448 tokens\n",
      "\t2: 2625 tokens (- 31823)\n",
      "\t3: 2625 tokens (- 0)\n",
      "\t4: 2594 tokens (- 31)\n",
      "\t5: 2462 tokens (- 132)\n",
      "\t6: 1880 tokens (- 582)\n",
      "1.B:\n",
      "\t1: 34448 tokens\n",
      "\t2: 34448 tokens (- 0)\n",
      "\t3: 2494 tokens (- 31954)\n",
      "\t4: 2494 tokens (- 0)\n",
      "\t5: 2474 tokens (- 20)\n",
      "\t6: 2305 tokens (- 169)\n",
      "2.A:\n",
      "\t1: 37965 tokens\n",
      "\t2: 3102 tokens (- 34863)\n",
      "\t3: 2740 tokens (- 362)\n",
      "\t4: 2620 tokens (- 120)\n",
      "\t5: 2098 tokens (- 522)\n",
      "\t6: 2098 tokens (- 0)\n"
     ]
    },
    {
     "data": {
      "image/png": "[encoded data removed]",
      "text/plain": [
       "<Figure size 640x480 with 1 Axes>"
      ]
     },
     "metadata": {},
     "output_type": "display_data"
    }
   ],
   "source": [
    "# A\n",
    "x = np.arange(0.7, len(tokenCount[\"A\"])+0.7, 1)\n",
    "\n",
    "plt.bar(\n",
    "    x[:-1],\n",
    "    tokenCount[\"A\"][:-1],\n",
    "    width=0.2,\n",
    "    align=\"edge\"\n",
    ")\n",
    "\n",
    "\n",
    "y = []\n",
    "for i in range(1, len(tokenCount[\"A\"])):\n",
    "    y.append(tokenCount[\"A\"][i-1] - tokenCount[\"A\"][i])\n",
    "    \n",
    "x = np.arange(1.7, len(y)+1.7, 1)\n",
    "\n",
    "plt.bar(\n",
    "    x[:-1],\n",
    "    y[:-1],\n",
    "    width=0.2,\n",
    "    align=\"edge\",\n",
    "    color=\"none\",\n",
    "    hatch=\"/\",\n",
    "    edgecolor=\"darkblue\"\n",
    ")\n",
    "\n",
    "# B\n",
    "x = np.arange(1, len(tokenCount[\"B\"])+1, 1)\n",
    "\n",
    "plt.bar(\n",
    "    x[:-1],\n",
    "    tokenCount[\"B\"][:-1],\n",
    "    width=0.2,\n",
    "    align=\"center\"\n",
    ")\n",
    "\n",
    "y = []\n",
    "for i in range(1, len(tokenCount[\"B\"])):\n",
    "    y.append(tokenCount[\"B\"][i-1] - tokenCount[\"B\"][i])\n",
    "\n",
    "x = np.arange(2, len(y)+2, 1)\n",
    "\n",
    "plt.bar(\n",
    "    x[:-1],\n",
    "    y[:-1],\n",
    "    width=0.2,\n",
    "    align=\"center\",\n",
    "    color=\"none\",\n",
    "    hatch=\"/\",\n",
    "    edgecolor=\"saddlebrown\"\n",
    ")\n",
    "\n",
    "\n",
    "\n",
    "# 2\n",
    "\n",
    "x = np.arange(1.1, len(tokenCount[\"2\"])+1.1, 1)\n",
    "\n",
    "plt.bar(\n",
    "    x,\n",
    "    tokenCount[\"2\"],\n",
    "    width=0.2,\n",
    "    align=\"edge\"\n",
    ")\n",
    "\n",
    "y = []\n",
    "for i in range(1, len(tokenCount[\"2\"])):\n",
    "    y.append(tokenCount[\"2\"][i-1] - tokenCount[\"2\"][i])\n",
    "\n",
    "x = np.arange(2.1, len(y)+2.1, 1)\n",
    "\n",
    "plt.bar(\n",
    "    x,\n",
    "    y,\n",
    "    width=0.2,\n",
    "    align=\"edge\",\n",
    "    color=\"none\",\n",
    "    hatch=\"/\",\n",
    "    edgecolor=\"darkgreen\"\n",
    ")\n",
    "\n",
    "plt.legend(labels=[\"1.A: Token Count\", \"1.A: Token Decrease\", \"1.B: Token Count\", \"1.B: Token Decrease\", \"2.A: Token Count\", \"2.A: Token Decrease\"])\n",
    "\n",
    "for key, value in tokenCount.items():\n",
    "    if(key == \"2\"): break\n",
    "    print(f\"1.{key}:\")\n",
    "    for i in range(len(value)-1):\n",
    "        print(f\"\\t{i+1}: {value[i]} tokens\", end=\"\")\n",
    "        if(i > 0):\n",
    "            print(f\" (- {value[i-1] - value[i]})\")\n",
    "        else:\n",
    "            print()\n",
    "\n",
    "print(f\"2.A:\")\n",
    "for i in range(len(tokenCount[\"2\"])):\n",
    "    print(f\"\\t{i+1}: {tokenCount['2'][i]} tokens\", end=\"\")\n",
    "    if(i > 0):\n",
    "        print(f\" (- {tokenCount['2'][i-1] - tokenCount['2'][i]})\")\n",
    "    else:\n",
    "        print()\n"
   ]
  },
  {
   "cell_type": "markdown",
   "metadata": {},
   "source": [
    "## 2.B: Observations"
   ]
  },
  {
   "cell_type": "markdown",
   "metadata": {},
   "source": [
    "**2.B:** Using spaCy produced a final token count greater than that of part 1.A, and less than that of part 1.B (not counting the additional final step). However, the initial token count is much higher due to the amount of whitespace strings that were counted as individual tokens. This caused the number of tokens removed in the first step to be greater than in the previous parts. It was much easier to perform these steps using spaCy, since it's builtin pipelines made it much easier to test for different attributes (ie: if a token was punctuation or a stop word)"
   ]
  },
  {
   "cell_type": "markdown",
   "metadata": {},
   "source": [
    "## 2.C"
   ]
  },
  {
   "cell_type": "markdown",
   "metadata": {},
   "source": [
    "There is a lot more information on the exact part of speech for each token in spacy. Using this, I will further remove unimportant words from the token list.\n",
    "\n",
    "I use the dep_ attribute to get the exact part of speech. I don't know what most of the abbhreviations mean, so to better understand that I find the unique list of dep_ values for the remaining tokens, and how many unique (lemmatized) tokens are categorized under that value and none of the others. This lets me see which categories have less than 10 unique words in them. Any words in these categories, or that are not nouns, adjectives, verbs, or adverbs can be removed. I am also removing the tokens with a frequency of only 1, since that was also done in the first 2 parts."
   ]
  },
  {
   "cell_type": "code",
   "execution_count": 251,
   "metadata": {},
   "outputs": [],
   "source": [
    "processedFiltered = [\n",
    "    token\n",
    "        for token in processed\n",
    "            if(not token.is_space and not token.is_punct and not token.is_stop)\n",
    "                and token.pos_ not in [\"SPACE\", \"PUNCT\"]\n",
    "]"
   ]
  },
  {
   "cell_type": "code",
   "execution_count": 252,
   "metadata": {},
   "outputs": [
    {
     "data": {
      "text/plain": [
       "array(['adj', 'adp', 'adv', 'aux', 'cconj', 'det', 'intj', 'noun', 'num',\n",
       "       'pron', 'propn', 'sconj', 'verb', 'x'], dtype='<U5')"
      ]
     },
     "execution_count": 252,
     "metadata": {},
     "output_type": "execute_result"
    }
   ],
   "source": [
    "posArr = np.unique(np.array([\n",
    "    token.pos_.lower()\n",
    "        for token in processedFiltered\n",
    "]))\n",
    "posArr"
   ]
  },
  {
   "cell_type": "code",
   "execution_count": 253,
   "metadata": {},
   "outputs": [
    {
     "data": {
      "text/plain": [
       "array(['acl', 'acomp', 'advcl', 'advmod', 'amod', 'appos', 'attr', 'aux',\n",
       "       'auxpass', 'cc', 'ccomp', 'compound', 'conj', 'csubj', 'dative',\n",
       "       'dep', 'dobj', 'intj', 'mark', 'meta', 'nmod', 'npadvmod', 'nsubj',\n",
       "       'nsubjpass', 'nummod', 'oprd', 'parataxis', 'pcomp', 'pobj',\n",
       "       'poss', 'preconj', 'predet', 'prep', 'prt', 'punct', 'quantmod',\n",
       "       'relcl', 'root', 'xcomp'], dtype='<U9')"
      ]
     },
     "execution_count": 253,
     "metadata": {},
     "output_type": "execute_result"
    }
   ],
   "source": [
    "depArr = np.unique(np.array([\n",
    "    token.dep_.lower()\n",
    "        for token in processedFiltered\n",
    "]))\n",
    "depArr"
   ]
  },
  {
   "cell_type": "code",
   "execution_count": 254,
   "metadata": {},
   "outputs": [],
   "source": [
    "posDict = {\n",
    "    \"adj\": \"a\",\n",
    "    \"adv\": \"v\",\n",
    "    \"noun\": \"n\",\n",
    "    \"propn\": \"n\",\n",
    "    \"verb\": \"v\"\n",
    "}"
   ]
  },
  {
   "cell_type": "code",
   "execution_count": 255,
   "metadata": {},
   "outputs": [
    {
     "name": "stdout",
     "output_type": "stream",
     "text": [
      "dep categories to remove (and number of unique words):\n",
      "\tacl: 7\n",
      "\tappos: 10\n",
      "\taux: 4\n",
      "\tauxpass: 2\n",
      "\tcsubj: 1\n",
      "\tdative: 1\n",
      "\tdep: 3\n",
      "\tintj: 4\n",
      "\tmark: 1\n",
      "\tmeta: 1\n",
      "\tnmod: 4\n",
      "\tnpadvmod: 8\n",
      "\tnummod: 4\n",
      "\toprd: 6\n",
      "\tposs: 2\n",
      "\tprep: 4\n",
      "\tpunct: 3\n",
      "\trelcl: 9\n"
     ]
    }
   ],
   "source": [
    "depToRemove = []\n",
    "\n",
    "print(\"dep categories to remove (and number of unique words):\")\n",
    "\n",
    "for dep in depArr:\n",
    "    arr = np.unique(np.array(\n",
    "    [\n",
    "        re.sub(regex, \"\", token.lemma_)\n",
    "            for token in processedFiltered\n",
    "                if(token.dep_.lower() == dep)\n",
    "    ]))\n",
    "\n",
    "    arr2 = np.unique(np.array(\n",
    "    [\n",
    "        re.sub(regex, \"\", token.lemma_)\n",
    "            for token in processedFiltered\n",
    "                if(token.dep_.lower() != dep)\n",
    "    ]))\n",
    "\n",
    "    diff = [\n",
    "        token\n",
    "            for token in arr\n",
    "                if(not token in arr2)\n",
    "    ]\n",
    "    if(len(diff) > 0 and len(diff) <= 10):\n",
    "        depToRemove.append(dep)\n",
    "        print(f\"\\t{dep}: {len(diff)}\")\n",
    "        #print(f\"\\t\\t{diff[:10]}\")\n"
   ]
  },
  {
   "cell_type": "code",
   "execution_count": 256,
   "metadata": {},
   "outputs": [],
   "source": [
    "what = [\n",
    "    token.pos_.lower()\n",
    "        for token in processedFiltered\n",
    "            if(token.dep)\n",
    "]"
   ]
  },
  {
   "cell_type": "code",
   "execution_count": 257,
   "metadata": {},
   "outputs": [],
   "source": [
    "finalTokenArr = np.unique(np.array([\n",
    "    (re.sub(regex, \"\", token.lemma_), token.pos_.lower())\n",
    "        for token in processedFiltered\n",
    "            if(token.pos_.lower() in list(posDict.keys())\n",
    "                and token.dep_.lower() not in depToRemove)\n",
    "]), return_counts=True, axis=0)\n",
    "\n",
    "finalTokenDict = {}\n",
    "\n",
    "for i in range(len(finalTokenArr[0])):\n",
    "    try:\n",
    "        finalTokenDict[tuple(finalTokenArr[0][i])] += finalTokenArr[1][i]\n",
    "    except:\n",
    "        finalTokenDict[tuple(finalTokenArr[0][i])] = finalTokenArr[1][i]\n",
    "\n",
    "finalTokenDict = sortByFrequency(finalTokenDict)"
   ]
  },
  {
   "cell_type": "code",
   "execution_count": 258,
   "metadata": {},
   "outputs": [],
   "source": [
    "finalFinalTokenDict = {\n",
    "    key: value\n",
    "        for key, value in finalTokenDict.items()\n",
    "            if(value > 1)\n",
    "}"
   ]
  },
  {
   "cell_type": "code",
   "execution_count": 259,
   "metadata": {},
   "outputs": [
    {
     "name": "stdout",
     "output_type": "stream",
     "text": [
      "1021 unique tokens found.\n",
      "\n",
      "\t10 most frequent words:\n",
      "\t\t('say', 'verb'): 464\n",
      "\t\t('alice', 'propn'): 304\n",
      "\t\t('think', 'verb'): 127\n",
      "\t\t('go', 'verb'): 121\n",
      "\t\t('little', 'adj'): 112\n",
      "\t\t('know', 'verb'): 100\n",
      "\t\t('look', 'verb'): 94\n",
      "\t\t('begin', 'verb'): 85\n",
      "\t\t('come', 'verb'): 83\n",
      "\t\t('thing', 'noun'): 78\n",
      "\n",
      "\t10 least frequent words:\n",
      "\t\t('wild', 'adj'): 2\n",
      "\t\t('wildly', 'adv'): 2\n",
      "\t\t('wind', 'noun'): 2\n",
      "\t\t('wine', 'noun'): 2\n",
      "\t\t('wise', 'adj'): 2\n",
      "\t\t('woman', 'noun'): 2\n",
      "\t\t('wonder', 'noun'): 2\n",
      "\t\t('wonderful', 'adj'): 2\n",
      "\t\t('wretched', 'adj'): 2\n",
      "\t\t('yawn', 'verb'): 2\n"
     ]
    }
   ],
   "source": [
    "tokenCount[\"2\"].append(len(finalFinalTokenDict))\n",
    "\n",
    "print(f\"{len(finalFinalTokenDict)} unique tokens found.\\n\")\n",
    "\n",
    "print(\"\\t10 most frequent words:\")\n",
    "for key in list(finalFinalTokenDict.keys())[:10]:\n",
    "    print(f\"\\t\\t{key}: {finalFinalTokenDict[key]}\")\n",
    "\n",
    "print(\"\\n\\t10 least frequent words:\")\n",
    "for key in list(finalFinalTokenDict.keys())[-10:]:\n",
    "    print(f\"\\t\\t{key}: {finalFinalTokenDict[key]}\")"
   ]
  },
  {
   "cell_type": "code",
   "execution_count": 261,
   "metadata": {},
   "outputs": [
    {
     "name": "stdout",
     "output_type": "stream",
     "text": [
      "1.A:\n",
      "\t1: 34448 tokens\n",
      "\t2: 2625 tokens (- 31823)\n",
      "\t3: 2625 tokens (- 0)\n",
      "\t4: 2594 tokens (- 31)\n",
      "\t5: 2462 tokens (- 132)\n",
      "\t6: 1880 tokens (- 582)\n",
      "\t7: 1135 tokens (- 745)\n",
      "1.B:\n",
      "\t1: 34448 tokens\n",
      "\t2: 34448 tokens (- 0)\n",
      "\t3: 2494 tokens (- 31954)\n",
      "\t4: 2494 tokens (- 0)\n",
      "\t5: 2474 tokens (- 20)\n",
      "\t6: 2305 tokens (- 169)\n",
      "\t7: 1201 tokens (- 1104)\n",
      "2.A:\n",
      "\t1: 37965 tokens\n",
      "\t2: 3102 tokens (- 34863)\n",
      "\t3: 2740 tokens (- 362)\n",
      "\t4: 2620 tokens (- 120)\n",
      "\t5: 2098 tokens (- 522)\n",
      "\t6: 2098 tokens (- 0)\n",
      "\t7: 1021 tokens (- 1077)\n"
     ]
    },
    {
     "data": {
      "image/png": "[encoded data removed]",
      "text/plain": [
       "<Figure size 640x480 with 1 Axes>"
      ]
     },
     "metadata": {},
     "output_type": "display_data"
    }
   ],
   "source": [
    "# A\n",
    "x = np.arange(0.7, len(tokenCount[\"A\"])+0.7, 1)\n",
    "\n",
    "plt.bar(\n",
    "    x,\n",
    "    tokenCount[\"A\"],\n",
    "    width=0.2,\n",
    "    align=\"edge\"\n",
    ")\n",
    "\n",
    "\n",
    "y = []\n",
    "for i in range(1, len(tokenCount[\"A\"])):\n",
    "    y.append(tokenCount[\"A\"][i-1] - tokenCount[\"A\"][i])\n",
    "    \n",
    "x = np.arange(1.7, len(y)+1.7, 1)\n",
    "\n",
    "plt.bar(\n",
    "    x,\n",
    "    y,\n",
    "    width=0.2,\n",
    "    align=\"edge\",\n",
    "    color=\"none\",\n",
    "    hatch=\"/\",\n",
    "    edgecolor=\"darkblue\"\n",
    ")\n",
    "\n",
    "# B\n",
    "x = np.arange(1, len(tokenCount[\"B\"])+1, 1)\n",
    "\n",
    "plt.bar(\n",
    "    x,\n",
    "    tokenCount[\"B\"],\n",
    "    width=0.2,\n",
    "    align=\"center\"\n",
    ")\n",
    "\n",
    "y = []\n",
    "for i in range(1, len(tokenCount[\"B\"])):\n",
    "    y.append(tokenCount[\"B\"][i-1] - tokenCount[\"B\"][i])\n",
    "\n",
    "x = np.arange(2, len(y)+2, 1)\n",
    "\n",
    "plt.bar(\n",
    "    x,\n",
    "    y,\n",
    "    width=0.2,\n",
    "    align=\"center\",\n",
    "    color=\"none\",\n",
    "    hatch=\"/\",\n",
    "    edgecolor=\"saddlebrown\"\n",
    ")\n",
    "\n",
    "\n",
    "\n",
    "# 2\n",
    "\n",
    "x = np.arange(1.1, len(tokenCount[\"2\"])+1.1, 1)\n",
    "\n",
    "plt.bar(\n",
    "    x,\n",
    "    tokenCount[\"2\"],\n",
    "    width=0.2,\n",
    "    align=\"edge\"\n",
    ")\n",
    "\n",
    "y = []\n",
    "for i in range(1, len(tokenCount[\"2\"])):\n",
    "    y.append(tokenCount[\"2\"][i-1] - tokenCount[\"2\"][i])\n",
    "\n",
    "x = np.arange(2.1, len(y)+2.1, 1)\n",
    "\n",
    "plt.bar(\n",
    "    x,\n",
    "    y,\n",
    "    width=0.2,\n",
    "    align=\"edge\",\n",
    "    color=\"none\",\n",
    "    hatch=\"/\",\n",
    "    edgecolor=\"darkgreen\"\n",
    ")\n",
    "\n",
    "plt.legend(labels=[\"1.A: Token Count\", \"1.A: Token Decrease\", \"1.B: Token Count\", \"1.B: Token Decrease\", \"2.A: Token Count\", \"2.A: Token Decrease\"])\n",
    "\n",
    "for key, value in tokenCount.items():\n",
    "    if(key == \"2\"): break\n",
    "    print(f\"1.{key}:\")\n",
    "    for i in range(len(value)):\n",
    "        print(f\"\\t{i+1}: {value[i]} tokens\", end=\"\")\n",
    "        if(i > 0):\n",
    "            print(f\" (- {value[i-1] - value[i]})\")\n",
    "        else:\n",
    "            print()\n",
    "\n",
    "print(f\"2.A:\")\n",
    "for i in range(len(tokenCount[\"2\"])):\n",
    "    print(f\"\\t{i+1}: {tokenCount['2'][i]} tokens\", end=\"\")\n",
    "    if(i > 0):\n",
    "        print(f\" (- {tokenCount['2'][i-1] - tokenCount['2'][i]})\")\n",
    "    else:\n",
    "        print()\n"
   ]
  },
  {
   "cell_type": "markdown",
   "metadata": {},
   "source": [
    "By further analyzing the parts of speech, as well as removing words with a frequency of 1 again, the list of tokens is now shorter than the final token lists from both previous parts."
   ]
  }
 ],
 "metadata": {
  "kernelspec": {
   "display_name": "Python 3",
   "language": "python",
   "name": "python3"
  },
  "language_info": {
   "codemirror_mode": {
    "name": "ipython",
    "version": 3
   },
   "file_extension": ".py",
   "mimetype": "text/x-python",
   "name": "python",
   "nbconvert_exporter": "python",
   "pygments_lexer": "ipython3",
   "version": "3.11.9"
  }
 },
 "nbformat": 4,
 "nbformat_minor": 2
}
